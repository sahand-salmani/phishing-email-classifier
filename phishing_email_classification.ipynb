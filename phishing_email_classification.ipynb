{
 "cells": [
  {
   "cell_type": "code",
   "execution_count": 1,
   "id": "96d8387c-aa79-4e4c-959d-0980706d5438",
   "metadata": {},
   "outputs": [],
   "source": [
    "import re\n",
    "import warnings\n",
    "import numpy as np\n",
    "import pandas as pd\n",
    "import matplotlib.pyplot as plt"
   ]
  },
  {
   "cell_type": "markdown",
   "id": "afc3b282-3f92-4a3b-9c3a-2b745ea7b30e",
   "metadata": {},
   "source": [
    "### Loading Dataset"
   ]
  },
  {
   "cell_type": "code",
   "execution_count": 2,
   "id": "7305a4d6-002d-4543-901a-11b9b28a1d9b",
   "metadata": {},
   "outputs": [],
   "source": [
    "df = pd.read_csv('data/CEAS_08.csv')"
   ]
  },
  {
   "cell_type": "code",
   "execution_count": 3,
   "id": "f0a9993f-3a48-4331-88e9-32ddbbeddcac",
   "metadata": {},
   "outputs": [
    {
     "name": "stdout",
     "output_type": "stream",
     "text": [
      "<class 'pandas.core.frame.DataFrame'>\n",
      "RangeIndex: 39154 entries, 0 to 39153\n",
      "Data columns (total 7 columns):\n",
      " #   Column    Non-Null Count  Dtype \n",
      "---  ------    --------------  ----- \n",
      " 0   sender    39154 non-null  object\n",
      " 1   receiver  38692 non-null  object\n",
      " 2   date      39154 non-null  object\n",
      " 3   subject   39126 non-null  object\n",
      " 4   body      39154 non-null  object\n",
      " 5   label     39154 non-null  int64 \n",
      " 6   urls      39154 non-null  int64 \n",
      "dtypes: int64(2), object(5)\n",
      "memory usage: 2.1+ MB\n"
     ]
    }
   ],
   "source": [
    "df.info()"
   ]
  },
  {
   "cell_type": "markdown",
   "id": "17c1f945-4169-405b-8a15-5b7a60410c64",
   "metadata": {},
   "source": [
    "### Combining subject and body and merging them into one column (email)"
   ]
  },
  {
   "cell_type": "code",
   "execution_count": 4,
   "id": "ade600a2-b3d1-4a0e-936d-02833b75ea28",
   "metadata": {},
   "outputs": [],
   "source": [
    "df['email'] = df['subject'] + ' ' + df['body']"
   ]
  },
  {
   "cell_type": "markdown",
   "id": "ed585e8a-df57-4dbe-842a-79441706c704",
   "metadata": {},
   "source": [
    "### Removing unneccessary columns"
   ]
  },
  {
   "cell_type": "code",
   "execution_count": 5,
   "id": "264170b9-dda9-49da-ae71-f7964c5ab869",
   "metadata": {},
   "outputs": [],
   "source": [
    "df = df.drop(columns=['receiver', 'date', 'sender', 'subject', 'body'], axis=1)"
   ]
  },
  {
   "cell_type": "code",
   "execution_count": 6,
   "id": "193cb62e-e7e0-48f0-80db-cd9bc0af3daa",
   "metadata": {},
   "outputs": [
    {
     "data": {
      "text/html": [
       "<div>\n",
       "<style scoped>\n",
       "    .dataframe tbody tr th:only-of-type {\n",
       "        vertical-align: middle;\n",
       "    }\n",
       "\n",
       "    .dataframe tbody tr th {\n",
       "        vertical-align: top;\n",
       "    }\n",
       "\n",
       "    .dataframe thead th {\n",
       "        text-align: right;\n",
       "    }\n",
       "</style>\n",
       "<table border=\"1\" class=\"dataframe\">\n",
       "  <thead>\n",
       "    <tr style=\"text-align: right;\">\n",
       "      <th></th>\n",
       "      <th>label</th>\n",
       "      <th>urls</th>\n",
       "      <th>email</th>\n",
       "    </tr>\n",
       "  </thead>\n",
       "  <tbody>\n",
       "    <tr>\n",
       "      <th>0</th>\n",
       "      <td>1</td>\n",
       "      <td>1</td>\n",
       "      <td>Never agree to be a loser Buck up, your troubl...</td>\n",
       "    </tr>\n",
       "    <tr>\n",
       "      <th>1</th>\n",
       "      <td>1</td>\n",
       "      <td>1</td>\n",
       "      <td>Befriend Jenna Jameson \\nUpgrade your sex and ...</td>\n",
       "    </tr>\n",
       "  </tbody>\n",
       "</table>\n",
       "</div>"
      ],
      "text/plain": [
       "   label  urls                                              email\n",
       "0      1     1  Never agree to be a loser Buck up, your troubl...\n",
       "1      1     1  Befriend Jenna Jameson \\nUpgrade your sex and ..."
      ]
     },
     "execution_count": 6,
     "metadata": {},
     "output_type": "execute_result"
    }
   ],
   "source": [
    "df.head(2)"
   ]
  },
  {
   "cell_type": "markdown",
   "id": "e02d69f8-65e8-452b-9427-57563ef18453",
   "metadata": {},
   "source": [
    "### Lowering text of email column and removing \\n from this text"
   ]
  },
  {
   "cell_type": "code",
   "execution_count": 7,
   "id": "b642654e-bd4d-4fd3-bbc6-8708045eccbb",
   "metadata": {},
   "outputs": [],
   "source": [
    "df['email'] = df['email'].str.lower()\n",
    "df['email'] = df['email'].str.replace('\\n', '')"
   ]
  },
  {
   "cell_type": "markdown",
   "id": "4b15961d-0fc3-4bfa-9355-81e15ffb963e",
   "metadata": {},
   "source": [
    "### Removing special charachters, white spaces and duplicates and nan values from text"
   ]
  },
  {
   "cell_type": "code",
   "execution_count": 8,
   "id": "4484edfd-a58a-45f3-962c-3e3ffed018ad",
   "metadata": {},
   "outputs": [],
   "source": [
    "special_characters = [\n",
    "    '!', '\"', '#', '$', '%', '&', \"'\", '(', ')', '*', '+', ',', '-', '.', '/',\n",
    "    ':', ';', '<', '=', '>', '?', '@', '[', '\\\\', ']', '^', '_', '`', '{', '|', '}', '~',\n",
    "]\n",
    "pattern = r'\\b[a-zA-Z]+\\b'\n",
    "\n",
    "def remove_special_chars_from_text(text):\n",
    "    temp = ''.join([i if i not in special_characters else ' ' for i in str(text)])\n",
    "    return ' '.join(re.findall(pattern, temp))"
   ]
  },
  {
   "cell_type": "code",
   "execution_count": 9,
   "id": "fbe868ca-fa8c-43f8-99da-e556d99f1419",
   "metadata": {},
   "outputs": [],
   "source": [
    "df['email'] = df['email'].apply(remove_special_chars_from_text)\n",
    "df['email'] = df['email'].str.replace(r'\\s+', ' ', regex=True)"
   ]
  },
  {
   "cell_type": "code",
   "execution_count": 10,
   "id": "1be09eea-0fa9-41c2-a8a0-0c6ee4607fc0",
   "metadata": {},
   "outputs": [],
   "source": [
    "df = df.drop_duplicates(subset='email', keep='first')"
   ]
  },
  {
   "cell_type": "code",
   "execution_count": 11,
   "id": "656165f8-d526-40c6-b815-0228c28d9323",
   "metadata": {},
   "outputs": [
    {
     "data": {
      "text/plain": [
       "(34516, 3)"
      ]
     },
     "execution_count": 11,
     "metadata": {},
     "output_type": "execute_result"
    }
   ],
   "source": [
    "df.shape"
   ]
  },
  {
   "cell_type": "code",
   "execution_count": 12,
   "id": "b684c6ea-b48a-4efc-914f-21279e6199a8",
   "metadata": {},
   "outputs": [],
   "source": [
    "min_length = 100\n",
    "df = df[df['email'].apply(len) >= min_length]"
   ]
  },
  {
   "cell_type": "code",
   "execution_count": 13,
   "id": "63e33853-310a-48bf-babc-756f1b75d435",
   "metadata": {},
   "outputs": [
    {
     "data": {
      "text/plain": [
       "(32307, 3)"
      ]
     },
     "execution_count": 13,
     "metadata": {},
     "output_type": "execute_result"
    }
   ],
   "source": [
    "df.shape"
   ]
  },
  {
   "cell_type": "code",
   "execution_count": 14,
   "id": "6168a43b-e1ba-44b9-9055-69d1bfa0f95d",
   "metadata": {},
   "outputs": [],
   "source": [
    "from sklearn.feature_extraction.text import CountVectorizer\n",
    "from sklearn.naive_bayes import MultinomialNB\n",
    "from sklearn.metrics import accuracy_score, classification_report\n",
    "from sklearn.model_selection import train_test_split\n",
    "\n",
    "class EmailPhishingDataProcessor:\n",
    "    def __init__(self):\n",
    "        self.vectorizer = CountVectorizer()\n",
    "        self.X = None\n",
    "        self.y = None\n",
    "        self.label_names = None\n",
    "    \n",
    "    def preprocess_data(self, df):\n",
    "        X_email = self.vectorizer.fit_transform(df['email'])\n",
    "        y = df['label'].values\n",
    "        email_column_names = self.vectorizer.get_feature_names_out()        \n",
    "        return X_email, y, email_column_names\n",
    "    \n",
    "    def process_text(self, text):\n",
    "        processed_data = self.vectorizer.transform([text])\n",
    "        return processed_data\n",
    "\n",
    "    def fit(self, df, max_features=None):\n",
    "        if max_features:\n",
    "            self.vectorizer = CountVectorizer(max_features=max_features)        \n",
    "        self.X, self.y, self.label_names = self.preprocess_data(df)\n",
    "        \n",
    "    def get_features_labels(self):\n",
    "        return self.X, self.y, self.label_names\n",
    "\n",
    "\n",
    "class NaiveBayesClassifier:\n",
    "    def __init__(self):\n",
    "        self.clf = MultinomialNB()\n",
    "    \n",
    "    def fit(self, X_train, y_train):\n",
    "        self.clf.fit(X_train, y_train)\n",
    "    \n",
    "    def test(self, X_test, y_test):\n",
    "        return self.clf.score(X_test, y_test)\n",
    "    \n",
    "    def predict(self, X):\n",
    "        return self.clf.predict(X)\n"
   ]
  },
  {
   "cell_type": "code",
   "execution_count": 15,
   "id": "151cecd4-3e2a-4141-915d-204143479005",
   "metadata": {},
   "outputs": [],
   "source": [
    "data_proccessor = EmailPhishingDataProcessor()\n",
    "data_proccessor.fit(df, max_features=40000)\n",
    "X, y, feature_names = data_proccessor.get_features_labels()"
   ]
  },
  {
   "cell_type": "code",
   "execution_count": 16,
   "id": "136d319a-1310-4753-ab96-11d81041e412",
   "metadata": {},
   "outputs": [
    {
     "name": "stdout",
     "output_type": "stream",
     "text": [
      "Matrix sparsity: 0.25%\n"
     ]
    }
   ],
   "source": [
    "n_total = X.shape[0]*X.shape[1]\n",
    "n_ratings = X.nnz\n",
    "sparsity = n_ratings / n_total\n",
    "print(f\"Matrix sparsity: {round(sparsity*100,2)}%\")"
   ]
  },
  {
   "cell_type": "code",
   "execution_count": 17,
   "id": "1283ddf9-44a4-46e8-b8ec-296a47954333",
   "metadata": {},
   "outputs": [
    {
     "data": {
      "text/plain": [
       "(32307, 40000)"
      ]
     },
     "execution_count": 17,
     "metadata": {},
     "output_type": "execute_result"
    }
   ],
   "source": [
    "X.shape"
   ]
  },
  {
   "cell_type": "code",
   "execution_count": 18,
   "id": "134dd0f1-8162-4c57-9b81-d8503b264c18",
   "metadata": {},
   "outputs": [],
   "source": [
    "X_train, X_test, y_train, y_test = train_test_split(X, y, test_size=0.2, random_state=42)"
   ]
  },
  {
   "cell_type": "code",
   "execution_count": 19,
   "id": "6cd718bf-b1b8-4692-b22a-0842bffc20a0",
   "metadata": {},
   "outputs": [],
   "source": [
    "clf = NaiveBayesClassifier()\n",
    "clf.fit(X_train, y_train)"
   ]
  },
  {
   "cell_type": "code",
   "execution_count": 20,
   "id": "e262ed27-2919-4de8-b161-7eafabcc120e",
   "metadata": {},
   "outputs": [],
   "source": [
    "y_pred = clf.predict(X_test)"
   ]
  },
  {
   "cell_type": "code",
   "execution_count": 21,
   "id": "c6efdf37-6d6b-4897-aad7-09903a37079c",
   "metadata": {},
   "outputs": [
    {
     "name": "stdout",
     "output_type": "stream",
     "text": [
      "Accuracy:99.5%\n"
     ]
    }
   ],
   "source": [
    "accuracy = accuracy_score(y_test, y_pred)\n",
    "print(f\"Accuracy:{round(accuracy, 3)*100}%\")"
   ]
  },
  {
   "cell_type": "code",
   "execution_count": 22,
   "id": "fea939ad-89e4-4696-a2d5-34aee1453265",
   "metadata": {},
   "outputs": [
    {
     "name": "stdout",
     "output_type": "stream",
     "text": [
      "\n",
      "Classification Report:\n",
      "              precision    recall  f1-score   support\n",
      "\n",
      "           0       0.99      1.00      1.00      3389\n",
      "           1       1.00      0.99      0.99      3073\n",
      "\n",
      "    accuracy                           1.00      6462\n",
      "   macro avg       1.00      0.99      1.00      6462\n",
      "weighted avg       1.00      1.00      1.00      6462\n",
      "\n"
     ]
    }
   ],
   "source": [
    "print(\"\\nClassification Report:\")\n",
    "print(classification_report(y_test, y_pred))"
   ]
  },
  {
   "cell_type": "code",
   "execution_count": 27,
   "id": "25aff328-5c59-4048-9291-78b0e07fd250",
   "metadata": {},
   "outputs": [],
   "source": [
    "test = '''\n",
    "my brother, send me some money i am stuck in other country \n",
    "and i lost my wallet and i can not efford buying ticket to come back to the country.\n",
    "'''"
   ]
  },
  {
   "cell_type": "code",
   "execution_count": 28,
   "id": "4bafb2d1-bb34-4ea0-8ddc-6b07d3fe4a44",
   "metadata": {},
   "outputs": [
    {
     "name": "stdout",
     "output_type": "stream",
     "text": [
      "Its not phishing email\n"
     ]
    }
   ],
   "source": [
    "new_test = data_proccessor.process_text(test)\n",
    "new_test_result = clf.predict(new_test)[0]\n",
    "if new_test_result == 1:\n",
    "    print('its phishing email')\n",
    "else:\n",
    "    print('Its not phishing email')"
   ]
  },
  {
   "cell_type": "code",
   "execution_count": 29,
   "id": "049e9c99-f9ab-4271-b50c-ee96ca35de20",
   "metadata": {},
   "outputs": [],
   "source": [
    "test2 = '''\n",
    "if you click on the link and use our product, u will win a lot of money\n",
    "'''"
   ]
  },
  {
   "cell_type": "code",
   "execution_count": 30,
   "id": "997b90b7-01bf-405f-a9e5-76f23dd33117",
   "metadata": {},
   "outputs": [
    {
     "name": "stdout",
     "output_type": "stream",
     "text": [
      "its phishing email\n"
     ]
    }
   ],
   "source": [
    "new_test2 = data_proccessor.process_text(test2)\n",
    "new_test_result2 = clf.predict(new_test2)[0]\n",
    "if new_test_result2 == 1:\n",
    "    print('its phishing email')\n",
    "else:\n",
    "    print('Its not phishing email')"
   ]
  }
 ],
 "metadata": {
  "kernelspec": {
   "display_name": "Python 3 (ipykernel)",
   "language": "python",
   "name": "python3"
  },
  "language_info": {
   "codemirror_mode": {
    "name": "ipython",
    "version": 3
   },
   "file_extension": ".py",
   "mimetype": "text/x-python",
   "name": "python",
   "nbconvert_exporter": "python",
   "pygments_lexer": "ipython3",
   "version": "3.11.7"
  }
 },
 "nbformat": 4,
 "nbformat_minor": 5
}
